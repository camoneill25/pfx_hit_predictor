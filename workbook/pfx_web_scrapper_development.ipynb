{
 "cells": [
  {
   "cell_type": "code",
   "execution_count": 18,
   "metadata": {
    "collapsed": true
   },
   "outputs": [],
   "source": [
    "from bs4 import BeautifulSoup\n",
    "import pandas as pd\n",
    "import psycopg2\n",
    "from lxml.html import parse\n",
    "import csv\n",
    "import io\n",
    "from sqlalchemy import create_engine"
   ]
  },
  {
   "cell_type": "code",
   "execution_count": 40,
   "metadata": {},
   "outputs": [
    {
     "name": "stdout",
     "output_type": "stream",
     "text": [
      "[['result not valid']]\n",
      "FUCK!\n"
     ]
    },
    {
     "ename": "AssertionError",
     "evalue": "51 columns passed, passed data had 1 columns",
     "output_type": "error",
     "traceback": [
      "\u001b[0;31m---------------------------------------------------------------------------\u001b[0m",
      "\u001b[0;31mAssertionError\u001b[0m                            Traceback (most recent call last)",
      "\u001b[0;32m<ipython-input-40-68f4c9aaa391>\u001b[0m in \u001b[0;36m<module>\u001b[0;34m()\u001b[0m\n\u001b[1;32m      9\u001b[0m         \u001b[0mprint\u001b[0m\u001b[0;34m(\u001b[0m\u001b[0;34m\"FUCK!\"\u001b[0m\u001b[0;34m)\u001b[0m\u001b[0;34m\u001b[0m\u001b[0m\n\u001b[1;32m     10\u001b[0m \u001b[0;34m\u001b[0m\u001b[0m\n\u001b[0;32m---> 11\u001b[0;31m \u001b[0mpitcher_df\u001b[0m \u001b[0;34m=\u001b[0m \u001b[0mpd\u001b[0m\u001b[0;34m.\u001b[0m\u001b[0mDataFrame\u001b[0m\u001b[0;34m(\u001b[0m\u001b[0mdata\u001b[0m\u001b[0;34m,\u001b[0m \u001b[0mcolumns\u001b[0m \u001b[0;34m=\u001b[0m \u001b[0;34m[\u001b[0m\u001b[0;34m\"dateStamp\"\u001b[0m\u001b[0;34m,\u001b[0m \u001b[0;34m\"park_sv_id\"\u001b[0m\u001b[0;34m,\u001b[0m \u001b[0;34m\"play_guid\"\u001b[0m\u001b[0;34m,\u001b[0m \u001b[0;34m\"ab_total\"\u001b[0m\u001b[0;34m,\u001b[0m \u001b[0;34m\"ab_count\"\u001b[0m\u001b[0;34m,\u001b[0m \u001b[0;34m\"pitcher_id\"\u001b[0m\u001b[0;34m,\u001b[0m \u001b[0;34m\"batter_id\"\u001b[0m\u001b[0;34m,\u001b[0m \u001b[0;34m\"ab_id\"\u001b[0m\u001b[0;34m,\u001b[0m \u001b[0;34m\"des\"\u001b[0m\u001b[0;34m,\u001b[0m \u001b[0;34m\"pitch_type\"\u001b[0m\u001b[0;34m,\u001b[0m \u001b[0;34m\"pitch_id\"\u001b[0m\u001b[0;34m,\u001b[0m \u001b[0;34m\"sz_top\"\u001b[0m\u001b[0;34m,\u001b[0m \u001b[0;34m\"sz_bot\"\u001b[0m\u001b[0;34m,\u001b[0m \u001b[0;34m\"pfx_xDataFile\"\u001b[0m\u001b[0;34m,\u001b[0m \u001b[0;34m\"pfx_zDataFile\"\u001b[0m\u001b[0;34m,\u001b[0m \u001b[0;34m\"mlbam_pitch_name\"\u001b[0m\u001b[0;34m,\u001b[0m \u001b[0;34m\"zone_location\"\u001b[0m\u001b[0;34m,\u001b[0m \u001b[0;34m\"pitch_con\"\u001b[0m\u001b[0;34m,\u001b[0m \u001b[0;34m\"stand\"\u001b[0m\u001b[0;34m,\u001b[0m \u001b[0;34m\"strikes\"\u001b[0m\u001b[0;34m,\u001b[0m \u001b[0;34m\"balls\"\u001b[0m\u001b[0;34m,\u001b[0m \u001b[0;34m\"p_throws\"\u001b[0m\u001b[0;34m,\u001b[0m \u001b[0;34m\"gid\"\u001b[0m\u001b[0;34m,\u001b[0m \u001b[0;34m\"pdes\"\u001b[0m\u001b[0;34m,\u001b[0m \u001b[0;34m\"spin\"\u001b[0m\u001b[0;34m,\u001b[0m \u001b[0;34m\"norm_ht\"\u001b[0m\u001b[0;34m,\u001b[0m \u001b[0;34m\"inning\"\u001b[0m\u001b[0;34m,\u001b[0m \u001b[0;34m\"pitcher_team\"\u001b[0m\u001b[0;34m,\u001b[0m \u001b[0;34m\"tstart\"\u001b[0m\u001b[0;34m,\u001b[0m \u001b[0;34m\"vystart\"\u001b[0m\u001b[0;34m,\u001b[0m \u001b[0;34m\"ftime\"\u001b[0m\u001b[0;34m,\u001b[0m \u001b[0;34m\"pfx_x\"\u001b[0m\u001b[0;34m,\u001b[0m \u001b[0;34m\"pfx_z\"\u001b[0m\u001b[0;34m,\u001b[0m \u001b[0;34m\"uncorrected_pfx_x\"\u001b[0m\u001b[0;34m,\u001b[0m \u001b[0;34m\"uncorrected_pfx_z\"\u001b[0m\u001b[0;34m,\u001b[0m \u001b[0;34m\"x0\"\u001b[0m\u001b[0;34m,\u001b[0m \u001b[0;34m\"y0\"\u001b[0m\u001b[0;34m,\u001b[0m \u001b[0;34m\"z0\"\u001b[0m\u001b[0;34m,\u001b[0m \u001b[0;34m\"vx0\"\u001b[0m\u001b[0;34m,\u001b[0m \u001b[0;34m\"vy0\"\u001b[0m\u001b[0;34m,\u001b[0m \u001b[0;34m\"vz0\"\u001b[0m\u001b[0;34m,\u001b[0m \u001b[0;34m\"ax\"\u001b[0m\u001b[0;34m,\u001b[0m \u001b[0;34m\"ay\"\u001b[0m\u001b[0;34m,\u001b[0m \u001b[0;34m\"az\"\u001b[0m\u001b[0;34m,\u001b[0m \u001b[0;34m\"start_speed\"\u001b[0m\u001b[0;34m,\u001b[0m \u001b[0;34m\"px\"\u001b[0m\u001b[0;34m,\u001b[0m \u001b[0;34m\"pz\"\u001b[0m\u001b[0;34m,\u001b[0m \u001b[0;34m\"pxold\"\u001b[0m\u001b[0;34m,\u001b[0m \u001b[0;34m\"pzold\"\u001b[0m\u001b[0;34m,\u001b[0m \u001b[0;34m\"tm_spin\"\u001b[0m\u001b[0;34m,\u001b[0m \u001b[0;34m\"sb\"\u001b[0m\u001b[0;34m]\u001b[0m\u001b[0;34m)\u001b[0m\u001b[0;34m\u001b[0m\u001b[0m\n\u001b[0m\u001b[1;32m     12\u001b[0m \u001b[0mpitcher_df\u001b[0m\u001b[0;34m\u001b[0m\u001b[0m\n",
      "\u001b[0;32m/anaconda/envs/py36/lib/python3.6/site-packages/pandas/core/frame.py\u001b[0m in \u001b[0;36m__init__\u001b[0;34m(self, data, index, columns, dtype, copy)\u001b[0m\n\u001b[1;32m    367\u001b[0m                     \u001b[0;32mif\u001b[0m \u001b[0mis_named_tuple\u001b[0m\u001b[0;34m(\u001b[0m\u001b[0mdata\u001b[0m\u001b[0;34m[\u001b[0m\u001b[0;36m0\u001b[0m\u001b[0;34m]\u001b[0m\u001b[0;34m)\u001b[0m \u001b[0;32mand\u001b[0m \u001b[0mcolumns\u001b[0m \u001b[0;32mis\u001b[0m \u001b[0;32mNone\u001b[0m\u001b[0;34m:\u001b[0m\u001b[0;34m\u001b[0m\u001b[0m\n\u001b[1;32m    368\u001b[0m                         \u001b[0mcolumns\u001b[0m \u001b[0;34m=\u001b[0m \u001b[0mdata\u001b[0m\u001b[0;34m[\u001b[0m\u001b[0;36m0\u001b[0m\u001b[0;34m]\u001b[0m\u001b[0;34m.\u001b[0m\u001b[0m_fields\u001b[0m\u001b[0;34m\u001b[0m\u001b[0m\n\u001b[0;32m--> 369\u001b[0;31m                     \u001b[0marrays\u001b[0m\u001b[0;34m,\u001b[0m \u001b[0mcolumns\u001b[0m \u001b[0;34m=\u001b[0m \u001b[0m_to_arrays\u001b[0m\u001b[0;34m(\u001b[0m\u001b[0mdata\u001b[0m\u001b[0;34m,\u001b[0m \u001b[0mcolumns\u001b[0m\u001b[0;34m,\u001b[0m \u001b[0mdtype\u001b[0m\u001b[0;34m=\u001b[0m\u001b[0mdtype\u001b[0m\u001b[0;34m)\u001b[0m\u001b[0;34m\u001b[0m\u001b[0m\n\u001b[0m\u001b[1;32m    370\u001b[0m                     \u001b[0mcolumns\u001b[0m \u001b[0;34m=\u001b[0m \u001b[0m_ensure_index\u001b[0m\u001b[0;34m(\u001b[0m\u001b[0mcolumns\u001b[0m\u001b[0;34m)\u001b[0m\u001b[0;34m\u001b[0m\u001b[0m\n\u001b[1;32m    371\u001b[0m \u001b[0;34m\u001b[0m\u001b[0m\n",
      "\u001b[0;32m/anaconda/envs/py36/lib/python3.6/site-packages/pandas/core/frame.py\u001b[0m in \u001b[0;36m_to_arrays\u001b[0;34m(data, columns, coerce_float, dtype)\u001b[0m\n\u001b[1;32m   6249\u001b[0m     \u001b[0;32mif\u001b[0m \u001b[0misinstance\u001b[0m\u001b[0;34m(\u001b[0m\u001b[0mdata\u001b[0m\u001b[0;34m[\u001b[0m\u001b[0;36m0\u001b[0m\u001b[0;34m]\u001b[0m\u001b[0;34m,\u001b[0m \u001b[0;34m(\u001b[0m\u001b[0mlist\u001b[0m\u001b[0;34m,\u001b[0m \u001b[0mtuple\u001b[0m\u001b[0;34m)\u001b[0m\u001b[0;34m)\u001b[0m\u001b[0;34m:\u001b[0m\u001b[0;34m\u001b[0m\u001b[0m\n\u001b[1;32m   6250\u001b[0m         return _list_to_arrays(data, columns, coerce_float=coerce_float,\n\u001b[0;32m-> 6251\u001b[0;31m                                dtype=dtype)\n\u001b[0m\u001b[1;32m   6252\u001b[0m     \u001b[0;32melif\u001b[0m \u001b[0misinstance\u001b[0m\u001b[0;34m(\u001b[0m\u001b[0mdata\u001b[0m\u001b[0;34m[\u001b[0m\u001b[0;36m0\u001b[0m\u001b[0;34m]\u001b[0m\u001b[0;34m,\u001b[0m \u001b[0mcollections\u001b[0m\u001b[0;34m.\u001b[0m\u001b[0mMapping\u001b[0m\u001b[0;34m)\u001b[0m\u001b[0;34m:\u001b[0m\u001b[0;34m\u001b[0m\u001b[0m\n\u001b[1;32m   6253\u001b[0m         return _list_of_dict_to_arrays(data, columns,\n",
      "\u001b[0;32m/anaconda/envs/py36/lib/python3.6/site-packages/pandas/core/frame.py\u001b[0m in \u001b[0;36m_list_to_arrays\u001b[0;34m(data, columns, coerce_float, dtype)\u001b[0m\n\u001b[1;32m   6328\u001b[0m         \u001b[0mcontent\u001b[0m \u001b[0;34m=\u001b[0m \u001b[0mlist\u001b[0m\u001b[0;34m(\u001b[0m\u001b[0mlib\u001b[0m\u001b[0;34m.\u001b[0m\u001b[0mto_object_array\u001b[0m\u001b[0;34m(\u001b[0m\u001b[0mdata\u001b[0m\u001b[0;34m)\u001b[0m\u001b[0;34m.\u001b[0m\u001b[0mT\u001b[0m\u001b[0;34m)\u001b[0m\u001b[0;34m\u001b[0m\u001b[0m\n\u001b[1;32m   6329\u001b[0m     return _convert_object_array(content, columns, dtype=dtype,\n\u001b[0;32m-> 6330\u001b[0;31m                                  coerce_float=coerce_float)\n\u001b[0m\u001b[1;32m   6331\u001b[0m \u001b[0;34m\u001b[0m\u001b[0m\n\u001b[1;32m   6332\u001b[0m \u001b[0;34m\u001b[0m\u001b[0m\n",
      "\u001b[0;32m/anaconda/envs/py36/lib/python3.6/site-packages/pandas/core/frame.py\u001b[0m in \u001b[0;36m_convert_object_array\u001b[0;34m(content, columns, coerce_float, dtype)\u001b[0m\n\u001b[1;32m   6385\u001b[0m             \u001b[0;31m# caller's responsibility to check for this...\u001b[0m\u001b[0;34m\u001b[0m\u001b[0;34m\u001b[0m\u001b[0m\n\u001b[1;32m   6386\u001b[0m             raise AssertionError('%d columns passed, passed data had %s '\n\u001b[0;32m-> 6387\u001b[0;31m                                  'columns' % (len(columns), len(content)))\n\u001b[0m\u001b[1;32m   6388\u001b[0m \u001b[0;34m\u001b[0m\u001b[0m\n\u001b[1;32m   6389\u001b[0m     \u001b[0;31m# provide soft conversion of object dtypes\u001b[0m\u001b[0;34m\u001b[0m\u001b[0;34m\u001b[0m\u001b[0m\n",
      "\u001b[0;31mAssertionError\u001b[0m: 51 columns passed, passed data had 1 columns"
     ]
    }
   ],
   "source": [
    "from lxml.html import parse\n",
    "page = parse(\"http://www.brooksbaseball.net/pfxVB/tabdel_expanded.php?pitchSel=403178&game=gid_2017_08_01_kcamlb_balmlb_1/&s_type=3&h_size=700&v_size=500\")\n",
    "rows = page.xpath(\"body/table\")[0].findall(\"tr\")\n",
    "data = list()\n",
    "for row in rows:\n",
    "    data.append([c.text for c in row.getchildren()])\n",
    "    print(data)\n",
    "    if len(data) == 1:\n",
    "        print(\"FUCK!\")\n",
    "    \n",
    "pitcher_df = pd.DataFrame(data, columns = [\"dateStamp\", \"park_sv_id\", \"play_guid\", \"ab_total\", \"ab_count\", \"pitcher_id\", \"batter_id\", \"ab_id\", \"des\", \"pitch_type\", \"pitch_id\", \"sz_top\", \"sz_bot\", \"pfx_xDataFile\", \"pfx_zDataFile\", \"mlbam_pitch_name\", \"zone_location\", \"pitch_con\", \"stand\", \"strikes\", \"balls\", \"p_throws\", \"gid\", \"pdes\", \"spin\", \"norm_ht\", \"inning\", \"pitcher_team\", \"tstart\", \"vystart\", \"ftime\", \"pfx_x\", \"pfx_z\", \"uncorrected_pfx_x\", \"uncorrected_pfx_z\", \"x0\", \"y0\", \"z0\", \"vx0\", \"vy0\", \"vz0\", \"ax\", \"ay\", \"az\", \"start_speed\", \"px\", \"pz\", \"pxold\", \"pzold\", \"tm_spin\", \"sb\"])\n",
    "pitcher_df"
   ]
  },
  {
   "cell_type": "code",
   "execution_count": 19,
   "metadata": {
    "collapsed": true
   },
   "outputs": [],
   "source": [
    "def write_to_table(df, db_engine, table_name, if_exists='fail'):\n",
    "    string_data_io = io.StringIO()\n",
    "    df.to_csv(string_data_io, sep='|', index=False)\n",
    "    pd_sql_engine = pd.io.sql.pandasSQL_builder(db_engine)\n",
    "    table = pd.io.sql.SQLTable(table_name, pd_sql_engine, frame=df,\n",
    "                               index=False, if_exists=if_exists)\n",
    "    table.create()\n",
    "    string_data_io.seek(0)\n",
    "    string_data_io.readline()  # remove header\n",
    "    with db_engine.connect() as connection:\n",
    "        with connection.connection.cursor() as cursor:\n",
    "            copy_cmd = \"COPY %s FROM STDIN HEADER DELIMITER '|' CSV\" % table_name\n",
    "            cursor.copy_expert(copy_cmd, string_data_io)\n",
    "        connection.connection.commit()"
   ]
  },
  {
   "cell_type": "code",
   "execution_count": 20,
   "metadata": {
    "collapsed": true
   },
   "outputs": [],
   "source": [
    "address = 'postgresql://@localhost:5432/pfxbaseballdata'\n",
    "engine = create_engine(address)"
   ]
  },
  {
   "cell_type": "code",
   "execution_count": 21,
   "metadata": {
    "collapsed": true
   },
   "outputs": [],
   "source": [
    "write_to_table(pitcher_df, engine, 'test_batters', \"replace\")"
   ]
  },
  {
   "cell_type": "code",
   "execution_count": 12,
   "metadata": {
    "collapsed": true
   },
   "outputs": [],
   "source": [
    "pitcher_df[1:].to_csv('pitcher_table.csv', encoding='utf-8',index=False)"
   ]
  },
  {
   "cell_type": "code",
   "execution_count": 13,
   "metadata": {},
   "outputs": [
    {
     "name": "stdout",
     "output_type": "stream",
     "text": [
      "dateStamp,park_sv_id,play_guid,ab_total,ab_count,pitcher_id,batter_id,ab_id,des,pitch_type,pitch_id,sz_top,sz_bot,pfx_xDataFile,pfx_zDataFile,mlbam_pitch_name,zone_location,pitch_con,stand,strikes,balls,p_throws,gid,pdes,spin,norm_ht,inning,pitcher_team,tstart,vystart,ftime,pfx_x,pfx_z,uncorrected_pfx_x,uncorrected_pfx_z,x0,y0,z0,vx0,vy0,vz0,ax,ay,az,start_speed,px,pz,pxold,pzold,tm_spin,sb\r\n",
      "2017-04-07,170407_002229hou,0a931d62-12e2-4fb9-b2ff-09dfdd551ecf,6,1,664641,543807,5,Home Run,B,38,3.9611,1.93801,6.1876,10.5233,FF,19,0.856,R,0,0,L,gid_2017_04_06_seamlb_houmlb_1/,Ball,149.575,-1.08779,1,sea,0.07666821236504766,-129.35233735237819,0.3086538920745674,6.7008325784929355,11.000371853418763,6.1876,10.5233,1.7550111362006353,55,6.532892350051115,-2.9783688495463134,-132.5785925448279,-7.981929300344492,11.72287141418457,28.168534088134766,-12.934235527038574,90.58,1.5443087965382278,1.9968904054487366,1.59942,1.84921,0,00\r\n",
      "2017-04-07,170407_002225_06,0a931d62-12e2-4fb9-b2ff-09dfdd551ecf,6,1,664641,543807,5,Home Run,B,38,3.65,1.7,6.1876,10.5233,FF,,2,R,0,0,L,gid_2017_04_06_seamlb_houmlb_1/,Ball,149.575,-0.846966,1,sea,0.07666821236504766,-129.35233735237819,0.3086538920745674,6.7008325784929355,11.000371853418763,6.1876,10.5233,1.7550111362006353,55,6.532892350051115,-2.9783688495463134,-132.5785925448279,-7.981929300344492,11.72287141418457,28.168534088134766,-12.934235527038574,90.58,1.5443087965382278,1.9968904054487366,1.59942,1.84921,2341,00\r\n",
      "2017-04-07,170407_002245hou,e765cd4a-e08c-4935-8b5c-208c44cec2da,6,2,664641,543807,5,Home Run,S,39,3.865,1.601,7.89514,10.058,FF,7,0.691,R,0,1,L,gid_2017_04_06_seamlb_houmlb_1/,Swinging Strike,141.896,0.0878726,1,sea,0.07574018244777227,-130.92083474342093,0.30512422430462904,8.373175408827278,10.52831107908285,7.89514,10.058,1.5574935283911784,55,6.492831012779443,-6.627901886684025,-134.23551537816337,-5.6272897699064455,14.989445320129395,29.2969539642334,-13.331485702514648,91.72,0.0964439476920127,2.973020615777111,0.146662,2.83247,0,10\r\n",
      "2017-04-07,170407_002240_06,e765cd4a-e08c-4935-8b5c-208c44cec2da,6,2,664641,543807,5,Home Run,S,39,3.65,1.7,7.89514,10.058,FF,,2,R,0,1,L,gid_2017_04_06_seamlb_houmlb_1/,Swinging Strike,141.896,0.161509,1,sea,0.07574018244777227,-130.92083474342093,0.30512422430462904,8.373175408827278,10.52831107908285,7.89514,10.058,1.5574935283911784,55,6.492831012779443,-6.627901886684025,-134.23551537816337,-5.6272897699064455,14.989445320129395,29.2969539642334,-13.331485702514648,91.72,0.0964439476920127,2.973020615777111,0.146662,2.83247,2479,10\r\n",
      "2017-04-07,170407_002302hou,2bc4d08a-b9cb-4c31-8bf3-880409bd9794,6,3,664641,543807,5,Home Run,B,40,3.9131,1.926,7.63864,11.3787,FF,21,0.892,R,1,1,L,gid_2017_04_06_seamlb_houmlb_1/,Ball,146.155,-1.88104,1,sea,0.0745622878500199,-133.00934405333186,0.3001319976559128,8.102642360954256,11.814415658010804,7.63864,11.3787,1.6104246028273324,55,6.414454731001367,-7.891661130392783,-136.3160040133334,-10.552127387185985,14.991697898864746,29.68557815551758,-10.319692565917968,93.38,-0.3677372845035687,1.1982484125321609,-0.319285,1.05065,0,11\r\n",
      "2017-04-07,170407_002258_06,2bc4d08a-b9cb-4c31-8bf3-880409bd9794,6,3,664641,543807,5,Home Run,B,40,3.65,1.7,7.63864,11.3787,FF,,2,R,1,1,L,gid_2017_04_06_seamlb_houmlb_1/,Ball,146.155,-1.666,1,sea,0.0745622878500199,-133.00934405333186,0.3001319976559128,8.102642360954256,11.814415658010804,7.63864,11.3787,1.6104246028273324,55,6.414454731001367,-7.891661130392783,-136.3160040133334,-10.552127387185985,14.991697898864746,29.68557815551758,-10.319692565917968,93.38,-0.3677372845035687,1.1982484125321609,-0.319285,1.05065,2704,11\r\n",
      "2017-04-07,170407_002321hou,69354c35-75f7-40c3-b125-1f9ff465ee2a,6,4,664641,543807,5,Home Run,S,41,3.865,1.601,7.07852,11.7205,FF,18,0.926,R,1,2,L,gid_2017_04_06_seamlb_houmlb_1/,Foul,148.9,-0.550984,1,sea,0.0743280033493659,-133.37763306813596,0.2998067475325799,7.548367742863148,12.150198410262773,7.07852,11.7205,1.5619119793901308,55,6.4820480836382925,-5.943210823797299,-136.84634049402226,-8.317805050324793,13.996485343933106,31.244263458251954,-9.64961619567871,93.56,0.30143643159386135,2.2505919357708812,0.353791,2.10929,0,21\r\n",
      "2017-04-07,170407_002317_06,69354c35-75f7-40c3-b125-1f9ff465ee2a,6,4,664641,543807,5,Home Run,S,41,3.65,1.7,7.07852,11.7205,FF,,2,R,1,2,L,gid_2017_04_06_seamlb_houmlb_1/,Foul,148.9,-0.580219,1,sea,0.0743280033493659,-133.37763306813596,0.2998067475325799,7.548367742863148,12.150198410262773,7.07852,11.7205,1.5619119793901308,55,6.4820480836382925,-5.943210823797299,-136.84634049402226,-8.317805050324793,13.996485343933106,31.244263458251954,-9.64961619567871,93.56,0.30143643159386135,2.2505919357708812,0.353791,2.10929,2697,21\r\n",
      "2017-04-07,170407_002353hou,6448ce00-59cf-4300-8f2d-d61b206b8fa8,6,5,664641,543807,5,Home Run,B,42,3.7451,1.86596,8.08671,7.69071,FT,20,0.876,R,2,2,L,gid_2017_04_06_seamlb_houmlb_1/,Ball,133.584,-1.30853,1,sea,0.0732704820046217,-135.41540534402222,0.29421919205565306,8.525053391639915,8.153257593627815,8.08671,7.69071,1.3605570571947312,55,6.420830078065006,-9.225757323762702,-138.59873665436066,-8.313446244235857,16.413600555419922,29.07592658996582,-16.481231643676757,94.88,-1.026388558580122,1.721688787579736,-0.978071,1.57608,0,22\r\n"
     ]
    }
   ],
   "source": [
    "! head pitcher_table.csv"
   ]
  },
  {
   "cell_type": "code",
   "execution_count": null,
   "metadata": {
    "collapsed": true
   },
   "outputs": [],
   "source": []
  }
 ],
 "metadata": {
  "kernelspec": {
   "display_name": "Python 3",
   "language": "python",
   "name": "python3"
  },
  "language_info": {
   "codemirror_mode": {
    "name": "ipython",
    "version": 3
   },
   "file_extension": ".py",
   "mimetype": "text/x-python",
   "name": "python",
   "nbconvert_exporter": "python",
   "pygments_lexer": "ipython3",
   "version": "3.6.3"
  }
 },
 "nbformat": 4,
 "nbformat_minor": 2
}
